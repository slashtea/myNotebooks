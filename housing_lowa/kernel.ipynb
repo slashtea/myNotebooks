{
  "cells": [
    {
      "metadata": {
        "_uuid": "8f2839f25d086af736a60e9eeb907d3b93b6e0e5",
        "_cell_guid": "b1076dfc-b9ad-4769-8c92-a6c4dae69d19",
        "trusted": true
      },
      "cell_type": "code",
      "source": "# This Python 3 environment comes with many helpful analytics libraries installed\n# It is defined by the kaggle/python docker image: https://github.com/kaggle/docker-python\n# For example, here's several helpful packages to load in \n\nimport numpy as np # linear algebra\nimport pandas as pd # data processing, CSV file I/O (e.g. pd.read_csv)\n\n# Input data files are available in the \"../input/\" directory.\n# For example, running this (by clicking run or pressing Shift+Enter) will list the files in the input directory\n\n# Any results you write to the current directory are saved as output.\ndata = pd.read_csv(\"../input/train.csv\")\nprint(data.head())\nprint(data.shape)",
      "execution_count": 2,
      "outputs": [
        {
          "output_type": "stream",
          "text": "   Id  MSSubClass MSZoning    ...     SaleType  SaleCondition SalePrice\n0   1          60       RL    ...           WD         Normal    208500\n1   2          20       RL    ...           WD         Normal    181500\n2   3          60       RL    ...           WD         Normal    223500\n3   4          70       RL    ...           WD        Abnorml    140000\n4   5          60       RL    ...           WD         Normal    250000\n\n[5 rows x 81 columns]\n(1460, 81)\n",
          "name": "stdout"
        }
      ]
    },
    {
      "metadata": {
        "_uuid": "df82d1ed4173cfba1c6ac5f82c0574f0104c054b"
      },
      "cell_type": "markdown",
      "source": "** Let's check missing values **"
    },
    {
      "metadata": {
        "_cell_guid": "79c7e3d0-c299-4dcb-8224-4455121ee9b0",
        "_uuid": "d629ff2d2480ee46fbb7e2d37f6b5fab8052498a",
        "trusted": true
      },
      "cell_type": "code",
      "source": "print(data.isnull().sum())\ncolumns_missing_values = [c for c in list(data.columns) if data[c].isnull().any()]\nprint(columns_missing_values)",
      "execution_count": 3,
      "outputs": [
        {
          "output_type": "stream",
          "text": "Id                  0\nMSSubClass          0\nMSZoning            0\nLotFrontage       259\nLotArea             0\nStreet              0\nAlley            1369\nLotShape            0\nLandContour         0\nUtilities           0\nLotConfig           0\nLandSlope           0\nNeighborhood        0\nCondition1          0\nCondition2          0\nBldgType            0\nHouseStyle          0\nOverallQual         0\nOverallCond         0\nYearBuilt           0\nYearRemodAdd        0\nRoofStyle           0\nRoofMatl            0\nExterior1st         0\nExterior2nd         0\nMasVnrType          8\nMasVnrArea          8\nExterQual           0\nExterCond           0\nFoundation          0\n                 ... \nBedroomAbvGr        0\nKitchenAbvGr        0\nKitchenQual         0\nTotRmsAbvGrd        0\nFunctional          0\nFireplaces          0\nFireplaceQu       690\nGarageType         81\nGarageYrBlt        81\nGarageFinish       81\nGarageCars          0\nGarageArea          0\nGarageQual         81\nGarageCond         81\nPavedDrive          0\nWoodDeckSF          0\nOpenPorchSF         0\nEnclosedPorch       0\n3SsnPorch           0\nScreenPorch         0\nPoolArea            0\nPoolQC           1453\nFence            1179\nMiscFeature      1406\nMiscVal             0\nMoSold              0\nYrSold              0\nSaleType            0\nSaleCondition       0\nSalePrice           0\nLength: 81, dtype: int64\n['LotFrontage', 'Alley', 'MasVnrType', 'MasVnrArea', 'BsmtQual', 'BsmtCond', 'BsmtExposure', 'BsmtFinType1', 'BsmtFinType2', 'Electrical', 'FireplaceQu', 'GarageType', 'GarageYrBlt', 'GarageFinish', 'GarageQual', 'GarageCond', 'PoolQC', 'Fence', 'MiscFeature']\n",
          "name": "stdout"
        }
      ]
    },
    {
      "metadata": {
        "trusted": true,
        "_uuid": "ffa1bf25adf498f077b5e23a078d56f0b0cd4852"
      },
      "cell_type": "code",
      "source": "# Create objects for target and predictors.\ny = data['SalePrice'].values\ntemp_X = data.drop(['SalePrice'], axis=1)\nX = temp_X.select_dtypes(exclude=['object']).values\nprint(X)",
      "execution_count": 19,
      "outputs": [
        {
          "output_type": "stream",
          "text": "[[1.000e+00 6.000e+01 6.500e+01 ... 0.000e+00 2.000e+00 2.008e+03]\n [2.000e+00 2.000e+01 8.000e+01 ... 0.000e+00 5.000e+00 2.007e+03]\n [3.000e+00 6.000e+01 6.800e+01 ... 0.000e+00 9.000e+00 2.008e+03]\n ...\n [1.458e+03 7.000e+01 6.600e+01 ... 2.500e+03 5.000e+00 2.010e+03]\n [1.459e+03 2.000e+01 6.800e+01 ... 0.000e+00 4.000e+00 2.010e+03]\n [1.460e+03 2.000e+01 7.500e+01 ... 0.000e+00 6.000e+00 2.008e+03]]\n",
          "name": "stdout"
        }
      ]
    },
    {
      "metadata": {
        "_uuid": "480c3612929e1f6a39c2f43a2c0515ce685b59b4"
      },
      "cell_type": "markdown",
      "source": "** Let's check missing values within the numerical predictors ** \n#### We kept numerical predictors only for simplicity."
    },
    {
      "metadata": {
        "_uuid": "c8d364c6f365a60d63e8b8182a5836baacdeb631"
      },
      "cell_type": "markdown",
      "source": "** Okay seems like we have only two columns with missing values. **"
    },
    {
      "metadata": {
        "trusted": true,
        "_uuid": "d127ad64fea446a45e65eef94dd4c700a64e8fe2"
      },
      "cell_type": "code",
      "source": "from sklearn.model_selection import train_test_split\nfrom sklearn.preprocessing import Imputer\n\n# Impute missing data.\nimputer = Imputer()\nX = imputer.fit_transform(X)\n\n# Split data into train and test.\nX_train, X_test, y_train, y_test = train_test_split(X, y, test_size=.4)",
      "execution_count": 21,
      "outputs": [
        {
          "output_type": "stream",
          "text": "/opt/conda/lib/python3.6/site-packages/sklearn/utils/deprecation.py:58: DeprecationWarning: Class Imputer is deprecated; Imputer was deprecated in version 0.20 and will be removed in 0.22. Import impute.SimpleImputer from sklearn instead.\n  warnings.warn(msg, category=DeprecationWarning)\n",
          "name": "stderr"
        }
      ]
    },
    {
      "metadata": {
        "trusted": true,
        "_uuid": "fd32b2ddfabc4bca6e1db4ec2ecd132c44c91dfe"
      },
      "cell_type": "code",
      "source": "from sklearn.ensemble import RandomForestRegressor\nfrom sklearn.metrics import mean_absolute_error\n\nrg = RandomForestRegressor()\nrg.fit(X_train, y_train)\ny_pred = rg.predict(X_test)\nprint('Mean absolute error: ', mean_absolute_error(y_test, y_pred))\n\n\n",
      "execution_count": 22,
      "outputs": [
        {
          "output_type": "stream",
          "text": "Mean absolute error:  20337.71729452055\n",
          "name": "stdout"
        }
      ]
    },
    {
      "metadata": {
        "_uuid": "7ab2a99e6003e962b59d23ac429cba47f1c0e37c"
      },
      "cell_type": "markdown",
      "source": "### In the following section we will use XGBoost and compare it's accuracy to our previous RandomForest regressor. Then along we will tune our Hyperparameters."
    },
    {
      "metadata": {
        "trusted": true,
        "_uuid": "1ccb4a1fab7eaead7d4bd78d2680da57dac5ac67"
      },
      "cell_type": "code",
      "source": "from xgboost import XGBRegressor\n\n# Instantiate the XGBoost regressor.\nmy_model = XGBRegressor()\n\nmy_model.fit(X_train, y_train, verbose=False)\npredictions = my_model.predict(X_test)\nprint('Error with XGBoost: ', mean_absolute_error(y_test, predictions))",
      "execution_count": 24,
      "outputs": [
        {
          "output_type": "stream",
          "text": "Error with XGBoost:  17740.013484589042\n",
          "name": "stdout"
        }
      ]
    },
    {
      "metadata": {
        "_uuid": "0a0f729795cf989b5639d9bf02d8dd658f1ac4ee"
      },
      "cell_type": "markdown",
      "source": "** We can clearly see here that the error dropped considerably **\n** Let's fine tune now some hyperparameters for more accuracy **"
    },
    {
      "metadata": {
        "trusted": true,
        "collapsed": true,
        "_uuid": "1e7d5784e34c6abbffef9d1c283830e6ecbeb81e"
      },
      "cell_type": "code",
      "source": "",
      "execution_count": null,
      "outputs": []
    }
  ],
  "metadata": {
    "kernelspec": {
      "display_name": "Python 3",
      "language": "python",
      "name": "python3"
    },
    "language_info": {
      "name": "python",
      "version": "3.6.6",
      "mimetype": "text/x-python",
      "codemirror_mode": {
        "name": "ipython",
        "version": 3
      },
      "pygments_lexer": "ipython3",
      "nbconvert_exporter": "python",
      "file_extension": ".py"
    }
  },
  "nbformat": 4,
  "nbformat_minor": 1
}